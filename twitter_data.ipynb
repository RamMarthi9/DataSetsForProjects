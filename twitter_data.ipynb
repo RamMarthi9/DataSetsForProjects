{
 "cells": [
  {
   "cell_type": "code",
   "execution_count": 3,
   "metadata": {},
   "outputs": [
    {
     "name": "stdout",
     "output_type": "stream",
     "text": [
      "Note: you may need to restart the kernel to use updated packages.Requirement already satisfied: twikit in c:\\users\\ramma\\appdata\\local\\programs\\python\\python312\\lib\\site-packages (2.1.3)\n",
      "Requirement already satisfied: httpx[socks] in c:\\users\\ramma\\appdata\\local\\programs\\python\\python312\\lib\\site-packages (from twikit) (0.26.0)\n",
      "Requirement already satisfied: filetype in c:\\users\\ramma\\appdata\\local\\programs\\python\\python312\\lib\\site-packages (from twikit) (1.2.0)\n",
      "Requirement already satisfied: beautifulsoup4 in c:\\users\\ramma\\appdata\\local\\programs\\python\\python312\\lib\\site-packages (from twikit) (4.12.2)\n",
      "Requirement already satisfied: pyotp in c:\\users\\ramma\\appdata\\local\\programs\\python\\python312\\lib\\site-packages (from twikit) (2.9.0)\n",
      "Requirement already satisfied: lxml in c:\\users\\ramma\\appdata\\local\\programs\\python\\python312\\lib\\site-packages (from twikit) (4.9.3)\n",
      "Requirement already satisfied: soupsieve>1.2 in c:\\users\\ramma\\appdata\\local\\programs\\python\\python312\\lib\\site-packages (from beautifulsoup4->twikit) (2.5)\n",
      "Requirement already satisfied: anyio in c:\\users\\ramma\\appdata\\local\\programs\\python\\python312\\lib\\site-packages (from httpx[socks]->twikit) (4.2.0)\n",
      "Requirement already satisfied: certifi in c:\\users\\ramma\\appdata\\local\\programs\\python\\python312\\lib\\site-packages (from httpx[socks]->twikit) (2023.11.17)\n",
      "Requirement already satisfied: httpcore==1.* in c:\\users\\ramma\\appdata\\local\\programs\\python\\python312\\lib\\site-packages (from httpx[socks]->twikit) (1.0.2)\n",
      "Requirement already satisfied: idna in c:\\users\\ramma\\appdata\\local\\programs\\python\\python312\\lib\\site-packages (from httpx[socks]->twikit) (3.6)\n",
      "Requirement already satisfied: sniffio in c:\\users\\ramma\\appdata\\local\\programs\\python\\python312\\lib\\site-packages (from httpx[socks]->twikit) (1.3.0)\n",
      "Requirement already satisfied: socksio==1.* in c:\\users\\ramma\\appdata\\local\\programs\\python\\python312\\lib\\site-packages (from httpx[socks]->twikit) (1.0.0)\n",
      "Requirement already satisfied: h11<0.15,>=0.13 in c:\\users\\ramma\\appdata\\local\\programs\\python\\python312\\lib\\site-packages (from httpcore==1.*->httpx[socks]->twikit) (0.14.0)\n",
      "\n"
     ]
    },
    {
     "name": "stderr",
     "output_type": "stream",
     "text": [
      "\n",
      "[notice] A new release of pip is available: 23.3.2 -> 24.2\n",
      "[notice] To update, run: python.exe -m pip install --upgrade pip\n"
     ]
    }
   ],
   "source": [
    "pip install twikit"
   ]
  },
  {
   "cell_type": "code",
   "execution_count": 2,
   "metadata": {},
   "outputs": [],
   "source": [
    "from twikit import Client, TooManyRequests\n",
    "import time\n",
    "from datetime import datetime\n",
    "import csv\n",
    "from configparser import ConfigParser\n",
    "from random import randint\n"
   ]
  },
  {
   "cell_type": "code",
   "execution_count": null,
   "metadata": {},
   "outputs": [],
   "source": [
    "MinTweet = 20\n",
    "\n",
    "Query = 'chatgpt'\n",
    "\n",
    "# Get Login credentials\n",
    "config = ConfigParser()\n",
    "config.read('config.ini')\n",
    "username = config['X']['username']\n",
    "email = config['X']['email']\n",
    "password = config['X']['password']\n",
    "\n",
    "# Authenticate X.com\n",
    "# 1. use login credentials\n",
    "client = Client(language='en-US')\n",
    "client.login(auth_info_1 = username, auth_info_2=email, password = password)\n",
    "client.save_cookies('cookies.json')\n",
    "# 2. use cookies\n"
   ]
  }
 ],
 "metadata": {
  "kernelspec": {
   "display_name": "Python 3",
   "language": "python",
   "name": "python3"
  },
  "language_info": {
   "codemirror_mode": {
    "name": "ipython",
    "version": 3
   },
   "file_extension": ".py",
   "mimetype": "text/x-python",
   "name": "python",
   "nbconvert_exporter": "python",
   "pygments_lexer": "ipython3",
   "version": "3.12.1"
  }
 },
 "nbformat": 4,
 "nbformat_minor": 2
}
